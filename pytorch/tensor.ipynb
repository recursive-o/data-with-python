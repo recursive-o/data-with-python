{
 "cells": [
  {
   "cell_type": "code",
   "execution_count": null,
   "id": "initial_id",
   "metadata": {
    "collapsed": true
   },
   "outputs": [],
   "source": [
    "import torch\n",
    "import numpy as np"
   ]
  },
  {
   "cell_type": "code",
   "execution_count": 3,
   "outputs": [
    {
     "name": "stdout",
     "output_type": "stream",
     "text": [
      "tensor([[1., 1., 1., 0.],\n",
      "        [1., 1., 1., 0.],\n",
      "        [1., 1., 1., 0.],\n",
      "        [1., 1., 1., 0.]])\n"
     ]
    }
   ],
   "source": [
    "tensor=torch.ones(4,4)\n",
    "tensor[...,-1]=0\n",
    "print(tensor)"
   ],
   "metadata": {
    "collapsed": false,
    "ExecuteTime": {
     "end_time": "2025-01-09T14:15:32.986634Z",
     "start_time": "2025-01-09T14:15:32.972728Z"
    }
   },
   "id": "3e809fe3d8ceb014"
  },
  {
   "cell_type": "code",
   "execution_count": null,
   "outputs": [],
   "source": [
    "t1 = torch.ones(2, 2)\n",
    "t2 = torch.zeros(2, 2)\n",
    "\n",
    "# torch.cat: 주어진 텐서들을 주어진 차원에 맞춰 합쳐주는 함수\n",
    "\n",
    "t3 = torch.cat([t1, t2], dim=0)\n",
    "t4 = torch.cat([t1, t2], dim=1)\n",
    "\n",
    "print(t3)\n",
    "\n",
    "print(t3.shape)\n",
    "\n",
    "print(t4)\n",
    "\n",
    "print(t4.shape)\n",
    "\n",
    "# torch.stack: 주어진 텐서들을 새로운 차원으로 합쳐주는 함수, cat과 다르게 차원이 하나 더 추가된다\n",
    "# https://pytorch.org/docs/stable/generated/torch.stack.html\n",
    "t3 = torch.stack([t1, t2], dim=0)\n",
    "t4 = torch.stack([t1, t2], dim=1)\n",
    "\n",
    "print(t3)\n",
    "\n",
    "print(t3.shape)\n",
    "\n",
    "print(t4)\n",
    "\n",
    "print(t4.shape)\n",
    "\n",
    "# https://velog.io/@nochesita/PyTorch-torch.cat%EA%B3%BC-torch.stack%EC%9D%98-%EC%B0%A8%EC%9D%B4"
   ],
   "metadata": {
    "collapsed": false
   },
   "id": "8a43bfc6e45a273"
  },
  {
   "cell_type": "code",
   "execution_count": 4,
   "outputs": [
    {
     "name": "stdout",
     "output_type": "stream",
     "text": [
      "y1 tensor([[3., 3., 3., 3.],\n",
      "        [3., 3., 3., 3.],\n",
      "        [3., 3., 3., 3.],\n",
      "        [3., 3., 3., 3.]])\n",
      "y2 tensor([[3., 3., 3., 3.],\n",
      "        [3., 3., 3., 3.],\n",
      "        [3., 3., 3., 3.],\n",
      "        [3., 3., 3., 3.]])\n",
      "y3 tensor([[0.2922, 0.0380, 0.2018, 0.6523],\n",
      "        [0.5348, 0.7503, 0.2164, 0.3012],\n",
      "        [0.2245, 0.7571, 0.5566, 0.2830],\n",
      "        [0.7791, 0.3784, 0.5574, 0.5718]])\n"
     ]
    },
    {
     "data": {
      "text/plain": "tensor([[3., 3., 3., 3.],\n        [3., 3., 3., 3.],\n        [3., 3., 3., 3.],\n        [3., 3., 3., 3.]])"
     },
     "execution_count": 4,
     "metadata": {},
     "output_type": "execute_result"
    }
   ],
   "source": [
    "# 1. torch.rand() : 0과 1 사이의 숫자를 균등하게 생성\n",
    "# 2. torch.rand_like() : 사이즈를 튜플로 입력하지 않고 기존의 텐서로 정의\n",
    "# https://bigdatadiary0819.tistory.com/60\n",
    "\n",
    "y1 = tensor @ tensor.T\n",
    "print('y1',y1)\n",
    "y2 = tensor.matmul(tensor.T)\n",
    "print('y2',y2)\n",
    "y3 = torch.rand_like(y1)\n",
    "print('y3',y3)\n",
    "torch.matmul(tensor, tensor.T, out=y3)"
   ],
   "metadata": {
    "collapsed": false,
    "ExecuteTime": {
     "end_time": "2025-01-09T14:33:38.945394Z",
     "start_time": "2025-01-09T14:33:38.929791Z"
    }
   },
   "id": "cd5eb9097499c7b0"
  },
  {
   "cell_type": "code",
   "execution_count": 5,
   "outputs": [
    {
     "name": "stdout",
     "output_type": "stream",
     "text": [
      "tensor([[1., 1., 1., 0.],\n",
      "        [1., 1., 1., 0.],\n",
      "        [1., 1., 1., 0.],\n",
      "        [1., 1., 1., 0.]])\n",
      "tensor([[1., 1., 1., 0.],\n",
      "        [1., 1., 1., 0.],\n",
      "        [1., 1., 1., 0.],\n",
      "        [1., 1., 1., 0.]])\n",
      "tensor([[9.6822e-01, 4.0161e-02, 2.7655e-01, 1.6870e-01],\n",
      "        [3.5494e-01, 9.9783e-01, 1.3596e-01, 3.4666e-04],\n",
      "        [1.0692e-01, 1.3396e-01, 3.5912e-01, 9.3706e-01],\n",
      "        [2.2386e-01, 8.1597e-01, 2.6958e-01, 7.9137e-01]])\n"
     ]
    },
    {
     "data": {
      "text/plain": "tensor([[1., 1., 1., 0.],\n        [1., 1., 1., 0.],\n        [1., 1., 1., 0.],\n        [1., 1., 1., 0.]])"
     },
     "execution_count": 5,
     "metadata": {},
     "output_type": "execute_result"
    }
   ],
   "source": [
    "z1 = tensor * tensor\n",
    "print(z1)\n",
    "z2 = tensor.mul(tensor)\n",
    "print(z2)\n",
    "z3 = torch.rand_like(tensor)\n",
    "print(z3)\n",
    "torch.mul(tensor, tensor, out=z3)"
   ],
   "metadata": {
    "collapsed": false,
    "ExecuteTime": {
     "end_time": "2025-01-09T14:36:27.609797Z",
     "start_time": "2025-01-09T14:36:27.604034Z"
    }
   },
   "id": "bb43850f7dde73b6"
  }
 ],
 "metadata": {
  "kernelspec": {
   "display_name": "Python 3",
   "language": "python",
   "name": "python3"
  },
  "language_info": {
   "codemirror_mode": {
    "name": "ipython",
    "version": 2
   },
   "file_extension": ".py",
   "mimetype": "text/x-python",
   "name": "python",
   "nbconvert_exporter": "python",
   "pygments_lexer": "ipython2",
   "version": "2.7.6"
  }
 },
 "nbformat": 4,
 "nbformat_minor": 5
}
